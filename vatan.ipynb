{
 "cells": [
  {
   "cell_type": "code",
   "execution_count": null,
   "metadata": {},
   "outputs": [],
   "source": [
    "from bs4 import BeautifulSoup\n",
    "import lxml\n",
    "import requests\n",
    "import pandas as pd\n",
    "\n",
    "data = []\n",
    "a = 1\n",
    "site = 'vatan'\n",
    "\n",
    "while a <= 20:\n",
    "    headers = {'User-Agent': 'Mozilla/5.0 (Windows NT 10.0; Win64; x64) AppleWebKit/537.36 (KHTML, like Gecko) Chrome/106.0.0.0 Safari/537.36'}\n",
    "    r = requests.get(\"https://www.vatanbilgisayar.com/notebook/?gclid=Cj0KCQjwkt6aBhDKARIsAAyeLJ3EURkWFx9yZ5TJOT5eTK2TstDcuvX2NYtC3A21e2xpP9Et4qWBOeMaAvRnEALw_wcB\", headers=headers)\n",
    "    soup = BeautifulSoup(r.content, \"lxml\")\n",
    "\n",
    "    div_wrapper = soup.find(\"div\", attrs={\"class\": \"wrapper-product-main\"})\n",
    "    div_products = div_wrapper.find(\"div\", attrs={\"id\": \"productsLoad\"})\n",
    "    product_list = div_products.find_all(\"div\", attrs={\"class\": \"product-list product-list--list-page\"})\n",
    "\n",
    "    for details in product_list:\n",
    "        link_end = details.a.get(\"href\")\n",
    "        link_base = \"https://www.vatanbilgisayar.com\"\n",
    "        link = link_base + link_end\n",
    "        print(link)\n",
    "        r1 = requests.get(link, headers=headers)\n",
    "        soup1 = BeautifulSoup(r1.content, \"lxml\")\n",
    "        soup2 = BeautifulSoup(r1.text, 'html.parser')\n",
    "\n",
    "        product_price = soup1.find(\"span\", attrs={\"class\": \"product-list__price\"}).text\n",
    "        product_price = product_price + \"TL\"\n",
    "        print(product_price)\n",
    "\n",
    "        product_brand = soup1.find(\"h1\", attrs={\"class\": \"product-list__product-name\"}).text.split()\n",
    "        print(product_brand[0])\n",
    "\n",
    "        table = soup2.find('div', class_='row masonry-tab')\n",
    "\n",
    "        for detail in table.find_all('tr'):\n",
    "            row_label = detail.find('td').text\n",
    "\n",
    "            if row_label == 'Ekran Boyutu':\n",
    "                screen_size = detail.find('p').text.strip().replace(\"inch\", \"\")\n",
    "                print(screen_size)\n",
    "\n",
    "            if row_label == 'Disk Kapasitesi':\n",
    "                disk_size = detail.find('p').text\n",
    "                print(disk_size)\n",
    "\n",
    "            if row_label == 'Ram (Sistem Belleği)':\n",
    "                ram_size = detail.find('p').text.strip().replace(\" GB\", \"\").split()\n",
    "                print(ram_size[0])\n",
    "\n",
    "            if row_label == 'İşlemci Nesli':\n",
    "                processor_generation = detail.find('p').text.strip().replace(\"AMD \", \"\").strip().replace(\"Intel \", \"\")\n",
    "                print(processor_generation)\n",
    "\n",
    "            if row_label == 'İşlemci Teknolojisi':\n",
    "                processor_type = detail.find('p').text.strip().replace(\"Core \", \"\").strip().replace(\"™\", \"\")\n",
    "                print(processor_type)\n",
    "\n",
    "            if row_label == 'İşletim Sistemi':\n",
    "                os = detail.find('p').text.strip().split()\n",
    "                if os[0] == 'FreeDOS':\n",
    "                    os[0] = 'None'\n",
    "                    print(os[0])\n",
    "                else:\n",
    "                    print(os[0])\n",
    "\n",
    "        data.append([product_price, product_brand[0], screen_size, disk_size, ram_size[0], processor_generation, processor_type, os[0], site])\n",
    "    a = a + 1"
   ]
  },
  {
   "cell_type": "code",
   "execution_count": 13,
   "metadata": {},
   "outputs": [],
   "source": [
    "df = pd.DataFrame(data)\n",
    "df.columns = [\"product_price\", \"brand\", \"screen_size\", \"disk_size\", \"ram\", \"processor_generation\", \"processor_type\", \"os\", \"site\"]\n",
    "df.to_excel(\"vatan1.xlsx\")\n"
   ]
  }
 ],
 "metadata": {
  "kernelspec": {
   "display_name": "Python 3.10.8 64-bit",
   "language": "python",
   "name": "python3"
  },
  "language_info": {
   "codemirror_mode": {
    "name": "ipython",
    "version": 3
   },
   "file_extension": ".py",
   "mimetype": "text/x-python",
   "name": "python",
   "nbconvert_exporter": "python",
   "pygments_lexer": "ipython3",
   "version": "3.10.8"
  },
  "orig_nbformat": 4,
  "vscode": {
   "interpreter": {
    "hash": "3fdc8ed25a801a36753430deeedbdd8aea6d72c17c490a2fd26151cd160ba03c"
   }
  }
 },
 "nbformat": 4,
 "nbformat_minor": 2
}
